{
 "cells": [
  {
   "cell_type": "raw",
   "id": "fc5305a8",
   "metadata": {},
   "source": [
    "using pymc4 (for mutabledata())"
   ]
  },
  {
   "cell_type": "code",
   "execution_count": 1,
   "id": "7f935f88",
   "metadata": {},
   "outputs": [
    {
     "name": "stdout",
     "output_type": "stream",
     "text": [
      "Looking in indexes: https://pypi.org/simple, https://pip.repos.neuron.amazonaws.com\n",
      "Requirement already satisfied: aesara in /home/ec2-user/anaconda3/envs/python3/lib/python3.8/site-packages (2.5.1)\n",
      "Requirement already satisfied: typing-extensions in /home/ec2-user/anaconda3/envs/python3/lib/python3.8/site-packages (from aesara) (4.4.0)\n",
      "Requirement already satisfied: numpy>=1.17.0 in /home/ec2-user/anaconda3/envs/python3/lib/python3.8/site-packages (from aesara) (1.20.3)\n",
      "Requirement already satisfied: miniKanren in /home/ec2-user/anaconda3/envs/python3/lib/python3.8/site-packages (from aesara) (1.0.3)\n",
      "Requirement already satisfied: filelock in /home/ec2-user/anaconda3/envs/python3/lib/python3.8/site-packages (from aesara) (3.8.2)\n",
      "Requirement already satisfied: cons in /home/ec2-user/anaconda3/envs/python3/lib/python3.8/site-packages (from aesara) (0.4.5)\n",
      "Requirement already satisfied: logical-unification in /home/ec2-user/anaconda3/envs/python3/lib/python3.8/site-packages (from aesara) (0.4.5)\n",
      "Requirement already satisfied: etuples in /home/ec2-user/anaconda3/envs/python3/lib/python3.8/site-packages (from aesara) (0.3.8)\n",
      "Requirement already satisfied: scipy>=0.14 in /home/ec2-user/anaconda3/envs/python3/lib/python3.8/site-packages (from aesara) (1.7.3)\n",
      "Requirement already satisfied: toolz in /home/ec2-user/anaconda3/envs/python3/lib/python3.8/site-packages (from logical-unification->aesara) (0.11.2)\n",
      "Requirement already satisfied: multipledispatch in /home/ec2-user/anaconda3/envs/python3/lib/python3.8/site-packages (from logical-unification->aesara) (0.6.0)\n",
      "Requirement already satisfied: six in /home/ec2-user/anaconda3/envs/python3/lib/python3.8/site-packages (from multipledispatch->logical-unification->aesara) (1.16.0)\n",
      "Note: you may need to restart the kernel to use updated packages.\n"
     ]
    }
   ],
   "source": [
    "pip install aesara"
   ]
  },
  {
   "cell_type": "code",
   "execution_count": 1,
   "id": "ae868f85",
   "metadata": {},
   "outputs": [],
   "source": [
    "import pandas as pd\n",
    "import matplotlib.pyplot as plt\n",
    "plt.style.use('ggplot')\n",
    "import numpy as np\n",
    "# import snowflake.connector\n",
    "# from snowflake.connector.pandas_tools import write_pandas\n",
    "import getpass\n",
    "import datetime as dt\n",
    "import seaborn as sns\n",
    "import boto3\n",
    "from sagemaker import get_execution_role\n",
    "import sklearn.metrics as metrics\n",
    "\n",
    "import arviz as az\n",
    "import theano.tensor as tt\n",
    "import theano\n",
    "import aesara.tensor as at\n",
    "\n",
    "from pymc import *\n",
    "import pymc as pm\n",
    "\n",
    "import random\n",
    "import os"
   ]
  },
  {
   "cell_type": "code",
   "execution_count": 3,
   "id": "8d9f36db",
   "metadata": {},
   "outputs": [
    {
     "name": "stdout",
     "output_type": "stream",
     "text": [
      "0.12.1\n",
      "1.1.2\n",
      "4.0.0b6\n"
     ]
    }
   ],
   "source": [
    "print(az.__version__)\n",
    "print(theano.__version__)\n",
    "print(pm.__version__)"
   ]
  },
  {
   "cell_type": "code",
   "execution_count": 4,
   "id": "7eda2f69",
   "metadata": {},
   "outputs": [],
   "source": [
    "seed = 42\n",
    "random.seed(seed)\n",
    "os.environ['PYTHONHASHSEED'] = str(seed)\n",
    "np.random.seed(seed)"
   ]
  },
  {
   "cell_type": "markdown",
   "id": "c8747861",
   "metadata": {},
   "source": [
    "# Getting Data"
   ]
  },
  {
   "cell_type": "code",
   "execution_count": 5,
   "id": "c4ef8025",
   "metadata": {},
   "outputs": [],
   "source": [
    "role = get_execution_role()\n",
    "bucket = 'decked-mmm'\n",
    "data_key = 'df8.csv'\n",
    "data_location = 's3://{}/{}'.format(bucket, data_key)\n",
    "\n",
    "df = pd.read_csv(data_location)"
   ]
  },
  {
   "cell_type": "code",
   "execution_count": 6,
   "id": "4622f8ab",
   "metadata": {},
   "outputs": [],
   "source": [
    "data_key = 'coef.csv'\n",
    "data_location = 's3://{}/{}'.format(bucket, data_key)\n",
    "\n",
    "coef = pd.read_csv(data_location)"
   ]
  },
  {
   "cell_type": "code",
   "execution_count": 7,
   "id": "9a689b1f",
   "metadata": {},
   "outputs": [
    {
     "data": {
      "text/html": [
       "<div>\n",
       "<style scoped>\n",
       "    .dataframe tbody tr th:only-of-type {\n",
       "        vertical-align: middle;\n",
       "    }\n",
       "\n",
       "    .dataframe tbody tr th {\n",
       "        vertical-align: top;\n",
       "    }\n",
       "\n",
       "    .dataframe thead th {\n",
       "        text-align: right;\n",
       "    }\n",
       "</style>\n",
       "<table border=\"1\" class=\"dataframe\">\n",
       "  <thead>\n",
       "    <tr style=\"text-align: right;\">\n",
       "      <th></th>\n",
       "      <th>Unnamed: 0</th>\n",
       "      <th>features</th>\n",
       "      <th>coef</th>\n",
       "    </tr>\n",
       "  </thead>\n",
       "  <tbody>\n",
       "    <tr>\n",
       "      <th>0</th>\n",
       "      <td>0</td>\n",
       "      <td>PODCAST</td>\n",
       "      <td>-88470.877779</td>\n",
       "    </tr>\n",
       "    <tr>\n",
       "      <th>1</th>\n",
       "      <td>1</td>\n",
       "      <td>SERP</td>\n",
       "      <td>-67240.759883</td>\n",
       "    </tr>\n",
       "    <tr>\n",
       "      <th>2</th>\n",
       "      <td>2</td>\n",
       "      <td>MAJOR_CHANGES_10</td>\n",
       "      <td>-44201.875738</td>\n",
       "    </tr>\n",
       "    <tr>\n",
       "      <th>3</th>\n",
       "      <td>3</td>\n",
       "      <td>BING</td>\n",
       "      <td>-42820.207502</td>\n",
       "    </tr>\n",
       "    <tr>\n",
       "      <th>4</th>\n",
       "      <td>4</td>\n",
       "      <td>MONTHNAME_Jan</td>\n",
       "      <td>-42189.914459</td>\n",
       "    </tr>\n",
       "    <tr>\n",
       "      <th>5</th>\n",
       "      <td>5</td>\n",
       "      <td>MONTHNAME_Sep</td>\n",
       "      <td>-38309.155641</td>\n",
       "    </tr>\n",
       "    <tr>\n",
       "      <th>6</th>\n",
       "      <td>6</td>\n",
       "      <td>LINKTREE_SESSION</td>\n",
       "      <td>-31620.321007</td>\n",
       "    </tr>\n",
       "    <tr>\n",
       "      <th>7</th>\n",
       "      <td>7</td>\n",
       "      <td>MONTHNAME_Jun</td>\n",
       "      <td>-26237.209054</td>\n",
       "    </tr>\n",
       "    <tr>\n",
       "      <th>8</th>\n",
       "      <td>8</td>\n",
       "      <td>MONTHNAME_Aug</td>\n",
       "      <td>-23738.867988</td>\n",
       "    </tr>\n",
       "    <tr>\n",
       "      <th>9</th>\n",
       "      <td>9</td>\n",
       "      <td>STEELHOUSE_RETARGETING</td>\n",
       "      <td>-23005.184082</td>\n",
       "    </tr>\n",
       "    <tr>\n",
       "      <th>10</th>\n",
       "      <td>10</td>\n",
       "      <td>MONTHNAME_Jul</td>\n",
       "      <td>-19997.820375</td>\n",
       "    </tr>\n",
       "    <tr>\n",
       "      <th>11</th>\n",
       "      <td>11</td>\n",
       "      <td>NEW_VEHICLE_SALES_8</td>\n",
       "      <td>-16338.986644</td>\n",
       "    </tr>\n",
       "    <tr>\n",
       "      <th>12</th>\n",
       "      <td>12</td>\n",
       "      <td>MONTHNAME_Feb</td>\n",
       "      <td>-15435.891922</td>\n",
       "    </tr>\n",
       "    <tr>\n",
       "      <th>13</th>\n",
       "      <td>13</td>\n",
       "      <td>STEELHOUSE_PROSPECTING</td>\n",
       "      <td>-14996.411668</td>\n",
       "    </tr>\n",
       "    <tr>\n",
       "      <th>14</th>\n",
       "      <td>14</td>\n",
       "      <td>MONTHNAME_Apr</td>\n",
       "      <td>-13221.489057</td>\n",
       "    </tr>\n",
       "    <tr>\n",
       "      <th>15</th>\n",
       "      <td>15</td>\n",
       "      <td>MONTHNAME_Mar</td>\n",
       "      <td>-12654.055428</td>\n",
       "    </tr>\n",
       "    <tr>\n",
       "      <th>16</th>\n",
       "      <td>16</td>\n",
       "      <td>MONTHNAME_May</td>\n",
       "      <td>-5485.030455</td>\n",
       "    </tr>\n",
       "    <tr>\n",
       "      <th>17</th>\n",
       "      <td>17</td>\n",
       "      <td>ISHOLIDAY</td>\n",
       "      <td>3083.288951</td>\n",
       "    </tr>\n",
       "    <tr>\n",
       "      <th>18</th>\n",
       "      <td>18</td>\n",
       "      <td>PRODUCT_LAUNCH_8</td>\n",
       "      <td>3443.736403</td>\n",
       "    </tr>\n",
       "    <tr>\n",
       "      <th>19</th>\n",
       "      <td>19</td>\n",
       "      <td>MONTHNAME_Nov</td>\n",
       "      <td>7199.631622</td>\n",
       "    </tr>\n",
       "    <tr>\n",
       "      <th>20</th>\n",
       "      <td>20</td>\n",
       "      <td>YOUTUBE_SHOWS</td>\n",
       "      <td>8073.889812</td>\n",
       "    </tr>\n",
       "    <tr>\n",
       "      <th>21</th>\n",
       "      <td>21</td>\n",
       "      <td>USED_VEHICLE_SALES_16</td>\n",
       "      <td>8992.038825</td>\n",
       "    </tr>\n",
       "    <tr>\n",
       "      <th>22</th>\n",
       "      <td>22</td>\n",
       "      <td>MONTHNAME_Oct</td>\n",
       "      <td>21573.780949</td>\n",
       "    </tr>\n",
       "    <tr>\n",
       "      <th>23</th>\n",
       "      <td>23</td>\n",
       "      <td>PRODUCT_LAUNCH</td>\n",
       "      <td>25355.136326</td>\n",
       "    </tr>\n",
       "    <tr>\n",
       "      <th>24</th>\n",
       "      <td>24</td>\n",
       "      <td>MAJOR_CHANGES_6</td>\n",
       "      <td>28634.531003</td>\n",
       "    </tr>\n",
       "    <tr>\n",
       "      <th>25</th>\n",
       "      <td>25</td>\n",
       "      <td>MONTHNAME_Dec</td>\n",
       "      <td>39775.625325</td>\n",
       "    </tr>\n",
       "    <tr>\n",
       "      <th>26</th>\n",
       "      <td>26</td>\n",
       "      <td>MAJOR_CHANGES_12</td>\n",
       "      <td>40684.495225</td>\n",
       "    </tr>\n",
       "    <tr>\n",
       "      <th>27</th>\n",
       "      <td>27</td>\n",
       "      <td>NEW_VEHICLE_SALES_14</td>\n",
       "      <td>42819.385761</td>\n",
       "    </tr>\n",
       "    <tr>\n",
       "      <th>28</th>\n",
       "      <td>28</td>\n",
       "      <td>USED_VEHICLE_SALES</td>\n",
       "      <td>53078.365288</td>\n",
       "    </tr>\n",
       "    <tr>\n",
       "      <th>29</th>\n",
       "      <td>29</td>\n",
       "      <td>IMPRESSIONS_ONLINE_PUBS</td>\n",
       "      <td>53409.820462</td>\n",
       "    </tr>\n",
       "    <tr>\n",
       "      <th>30</th>\n",
       "      <td>30</td>\n",
       "      <td>USED_VEHICLE_SALES_12</td>\n",
       "      <td>53458.539844</td>\n",
       "    </tr>\n",
       "    <tr>\n",
       "      <th>31</th>\n",
       "      <td>31</td>\n",
       "      <td>PERFMAX</td>\n",
       "      <td>57854.346732</td>\n",
       "    </tr>\n",
       "    <tr>\n",
       "      <th>32</th>\n",
       "      <td>32</td>\n",
       "      <td>SEARCH_INDEX</td>\n",
       "      <td>70738.617637</td>\n",
       "    </tr>\n",
       "    <tr>\n",
       "      <th>33</th>\n",
       "      <td>33</td>\n",
       "      <td>NEW_VEHICLE_SALES</td>\n",
       "      <td>71437.911614</td>\n",
       "    </tr>\n",
       "    <tr>\n",
       "      <th>34</th>\n",
       "      <td>34</td>\n",
       "      <td>IMPRESSIONS_BRANDED_SEARCH</td>\n",
       "      <td>73450.326996</td>\n",
       "    </tr>\n",
       "    <tr>\n",
       "      <th>35</th>\n",
       "      <td>35</td>\n",
       "      <td>ADWORDS_YT</td>\n",
       "      <td>74177.102440</td>\n",
       "    </tr>\n",
       "    <tr>\n",
       "      <th>36</th>\n",
       "      <td>36</td>\n",
       "      <td>FB_PROSPECTING</td>\n",
       "      <td>84905.343696</td>\n",
       "    </tr>\n",
       "    <tr>\n",
       "      <th>37</th>\n",
       "      <td>37</td>\n",
       "      <td>OPENS_EMAIL</td>\n",
       "      <td>88701.818094</td>\n",
       "    </tr>\n",
       "    <tr>\n",
       "      <th>38</th>\n",
       "      <td>38</td>\n",
       "      <td>FB_RETARGETING</td>\n",
       "      <td>113296.224840</td>\n",
       "    </tr>\n",
       "    <tr>\n",
       "      <th>39</th>\n",
       "      <td>39</td>\n",
       "      <td>IMPRESSIONS_NONBRANDED_SEARCH</td>\n",
       "      <td>113973.720822</td>\n",
       "    </tr>\n",
       "    <tr>\n",
       "      <th>40</th>\n",
       "      <td>40</td>\n",
       "      <td>MAJOR_CHANGES</td>\n",
       "      <td>138234.679147</td>\n",
       "    </tr>\n",
       "    <tr>\n",
       "      <th>41</th>\n",
       "      <td>41</td>\n",
       "      <td>AOV</td>\n",
       "      <td>140843.498941</td>\n",
       "    </tr>\n",
       "    <tr>\n",
       "      <th>42</th>\n",
       "      <td>42</td>\n",
       "      <td>ADWORDS_SEARCH</td>\n",
       "      <td>142171.989912</td>\n",
       "    </tr>\n",
       "    <tr>\n",
       "      <th>43</th>\n",
       "      <td>43</td>\n",
       "      <td>ADWORDS_LUMP</td>\n",
       "      <td>166438.745400</td>\n",
       "    </tr>\n",
       "  </tbody>\n",
       "</table>\n",
       "</div>"
      ],
      "text/plain": [
       "    Unnamed: 0                       features           coef\n",
       "0            0                        PODCAST  -88470.877779\n",
       "1            1                           SERP  -67240.759883\n",
       "2            2               MAJOR_CHANGES_10  -44201.875738\n",
       "3            3                           BING  -42820.207502\n",
       "4            4                  MONTHNAME_Jan  -42189.914459\n",
       "5            5                  MONTHNAME_Sep  -38309.155641\n",
       "6            6               LINKTREE_SESSION  -31620.321007\n",
       "7            7                  MONTHNAME_Jun  -26237.209054\n",
       "8            8                  MONTHNAME_Aug  -23738.867988\n",
       "9            9         STEELHOUSE_RETARGETING  -23005.184082\n",
       "10          10                  MONTHNAME_Jul  -19997.820375\n",
       "11          11            NEW_VEHICLE_SALES_8  -16338.986644\n",
       "12          12                  MONTHNAME_Feb  -15435.891922\n",
       "13          13         STEELHOUSE_PROSPECTING  -14996.411668\n",
       "14          14                  MONTHNAME_Apr  -13221.489057\n",
       "15          15                  MONTHNAME_Mar  -12654.055428\n",
       "16          16                  MONTHNAME_May   -5485.030455\n",
       "17          17                      ISHOLIDAY    3083.288951\n",
       "18          18               PRODUCT_LAUNCH_8    3443.736403\n",
       "19          19                  MONTHNAME_Nov    7199.631622\n",
       "20          20                  YOUTUBE_SHOWS    8073.889812\n",
       "21          21          USED_VEHICLE_SALES_16    8992.038825\n",
       "22          22                  MONTHNAME_Oct   21573.780949\n",
       "23          23                 PRODUCT_LAUNCH   25355.136326\n",
       "24          24                MAJOR_CHANGES_6   28634.531003\n",
       "25          25                  MONTHNAME_Dec   39775.625325\n",
       "26          26               MAJOR_CHANGES_12   40684.495225\n",
       "27          27           NEW_VEHICLE_SALES_14   42819.385761\n",
       "28          28             USED_VEHICLE_SALES   53078.365288\n",
       "29          29        IMPRESSIONS_ONLINE_PUBS   53409.820462\n",
       "30          30          USED_VEHICLE_SALES_12   53458.539844\n",
       "31          31                        PERFMAX   57854.346732\n",
       "32          32                   SEARCH_INDEX   70738.617637\n",
       "33          33              NEW_VEHICLE_SALES   71437.911614\n",
       "34          34     IMPRESSIONS_BRANDED_SEARCH   73450.326996\n",
       "35          35                     ADWORDS_YT   74177.102440\n",
       "36          36                 FB_PROSPECTING   84905.343696\n",
       "37          37                    OPENS_EMAIL   88701.818094\n",
       "38          38                 FB_RETARGETING  113296.224840\n",
       "39          39  IMPRESSIONS_NONBRANDED_SEARCH  113973.720822\n",
       "40          40                  MAJOR_CHANGES  138234.679147\n",
       "41          41                            AOV  140843.498941\n",
       "42          42                 ADWORDS_SEARCH  142171.989912\n",
       "43          43                   ADWORDS_LUMP  166438.745400"
      ]
     },
     "execution_count": 7,
     "metadata": {},
     "output_type": "execute_result"
    }
   ],
   "source": [
    "coef"
   ]
  },
  {
   "cell_type": "code",
   "execution_count": 8,
   "id": "0682161c",
   "metadata": {},
   "outputs": [
    {
     "data": {
      "text/plain": [
       "'2020-03-01'"
      ]
     },
     "execution_count": 8,
     "metadata": {},
     "output_type": "execute_result"
    }
   ],
   "source": [
    "df['DATE_AT'].min()"
   ]
  },
  {
   "cell_type": "code",
   "execution_count": 9,
   "id": "d63847ba",
   "metadata": {},
   "outputs": [
    {
     "data": {
      "text/plain": [
       "'2022-10-30'"
      ]
     },
     "execution_count": 9,
     "metadata": {},
     "output_type": "execute_result"
    }
   ],
   "source": [
    "df['DATE_AT'].max()"
   ]
  },
  {
   "cell_type": "code",
   "execution_count": 10,
   "id": "7426622a",
   "metadata": {},
   "outputs": [],
   "source": [
    "df = df.loc[df['DATE_AT']>'2020-08-31']"
   ]
  },
  {
   "cell_type": "code",
   "execution_count": 11,
   "id": "2d1fcb7e",
   "metadata": {},
   "outputs": [
    {
     "data": {
      "text/html": [
       "<div>\n",
       "<style scoped>\n",
       "    .dataframe tbody tr th:only-of-type {\n",
       "        vertical-align: middle;\n",
       "    }\n",
       "\n",
       "    .dataframe tbody tr th {\n",
       "        vertical-align: top;\n",
       "    }\n",
       "\n",
       "    .dataframe thead th {\n",
       "        text-align: right;\n",
       "    }\n",
       "</style>\n",
       "<table border=\"1\" class=\"dataframe\">\n",
       "  <thead>\n",
       "    <tr style=\"text-align: right;\">\n",
       "      <th></th>\n",
       "      <th>STEELHOUSE_PROSPECTING</th>\n",
       "      <th>SALES</th>\n",
       "    </tr>\n",
       "  </thead>\n",
       "  <tbody>\n",
       "    <tr>\n",
       "      <th>count</th>\n",
       "      <td>113.000000</td>\n",
       "      <td>113.000000</td>\n",
       "    </tr>\n",
       "    <tr>\n",
       "      <th>mean</th>\n",
       "      <td>0.350758</td>\n",
       "      <td>601803.379381</td>\n",
       "    </tr>\n",
       "    <tr>\n",
       "      <th>std</th>\n",
       "      <td>0.214972</td>\n",
       "      <td>112894.600495</td>\n",
       "    </tr>\n",
       "    <tr>\n",
       "      <th>min</th>\n",
       "      <td>0.000000</td>\n",
       "      <td>90842.090000</td>\n",
       "    </tr>\n",
       "    <tr>\n",
       "      <th>25%</th>\n",
       "      <td>0.243299</td>\n",
       "      <td>527291.990000</td>\n",
       "    </tr>\n",
       "    <tr>\n",
       "      <th>50%</th>\n",
       "      <td>0.337936</td>\n",
       "      <td>599685.250000</td>\n",
       "    </tr>\n",
       "    <tr>\n",
       "      <th>75%</th>\n",
       "      <td>0.503377</td>\n",
       "      <td>688501.810000</td>\n",
       "    </tr>\n",
       "    <tr>\n",
       "      <th>max</th>\n",
       "      <td>1.000000</td>\n",
       "      <td>896055.900000</td>\n",
       "    </tr>\n",
       "  </tbody>\n",
       "</table>\n",
       "</div>"
      ],
      "text/plain": [
       "       STEELHOUSE_PROSPECTING          SALES\n",
       "count              113.000000     113.000000\n",
       "mean                 0.350758  601803.379381\n",
       "std                  0.214972  112894.600495\n",
       "min                  0.000000   90842.090000\n",
       "25%                  0.243299  527291.990000\n",
       "50%                  0.337936  599685.250000\n",
       "75%                  0.503377  688501.810000\n",
       "max                  1.000000  896055.900000"
      ]
     },
     "execution_count": 11,
     "metadata": {},
     "output_type": "execute_result"
    }
   ],
   "source": [
    "df[['STEELHOUSE_PROSPECTING', 'SALES']].describe()"
   ]
  },
  {
   "cell_type": "markdown",
   "id": "ed150ed4",
   "metadata": {},
   "source": [
    "# Modeling"
   ]
  },
  {
   "cell_type": "code",
   "execution_count": 12,
   "id": "963ba5e4",
   "metadata": {},
   "outputs": [],
   "source": [
    "p = {'STEELHOUSE_PROSPECTING':0.5\n",
    "     , 'STEELHOUSE_RETARGETING':0\n",
    "     , 'ADWORDS_YT':1.5\n",
    "     , 'FB_PROSPECTING':1.5\n",
    "     , 'OPENS_EMAIL':1\n",
    "     , 'PODCAST':1.5\n",
    "     , 'YOUTUBE_SHOWS': 1.5\n",
    "     , 'IMPRESSIONS_ONLINE_PUBS': 1.5\n",
    "     , 'SEARCH_INDEX':0\n",
    "     , 'SERP':1}\n",
    "\n",
    "d = {'STEELHOUSE_PROSPECTING':0.05\n",
    "     , 'STEELHOUSE_RETARGETING':0.3\n",
    "     , 'ADWORDS_YT':0.3\n",
    "     , 'FB_PROSPECTING':0.05\n",
    "     , 'OPENS_EMAIL':0.5\n",
    "     , 'PODCAST':0.3\n",
    "     , 'YOUTUBE_SHOWS':0.3\n",
    "     , 'IMPRESSIONS_ONLINE_PUBS':0.3\n",
    "     , 'SEARCH_INDEX':0.5\n",
    "     , 'SERP':0.3}"
   ]
  },
  {
   "cell_type": "code",
   "execution_count": 15,
   "id": "ed5be8c5",
   "metadata": {},
   "outputs": [],
   "source": [
    "# defining function\n",
    "\n",
    "def logistic_function(x_t, mu):\n",
    "    return (1 - np.exp(-mu * x_t)) / (1 + np.exp(-mu * x_t))\n",
    "\n",
    "def geometric_adstock_tt(x_t, alpha=0, L=12, normalize=True):\n",
    "    w = at.as_tensor_variable([at.power(alpha, i) for i in range(L)])\n",
    "    xx = at.stack([at.concatenate([at.zeros(i), x_t[:x_t.shape[0] - i]]) for i in range(L)])\n",
    "    \n",
    "    if not normalize:\n",
    "        y = at.dot(w, xx)\n",
    "    else:\n",
    "        y = at.dot(w / at.sum(w), xx)\n",
    "    return y\n",
    "\n",
    "def normalize(arr, t_min, t_max):\n",
    "    norm_arr = []\n",
    "    diff = t_max - t_min\n",
    "    diff_arr = max(arr) - min(arr)    \n",
    "    for i in arr:\n",
    "        temp = (((i - min(arr))*diff)/diff_arr) + t_min\n",
    "        norm_arr.append(temp)\n",
    "    return norm_arr"
   ]
  },
  {
   "cell_type": "code",
   "execution_count": 16,
   "id": "4e4378f5",
   "metadata": {},
   "outputs": [
    {
     "name": "stdout",
     "output_type": "stream",
     "text": [
      "{'STEELHOUSE_PROSPECTING': 2.333333333333333, 'ADWORDS_YT': 5.0, 'OPENS_EMAIL': 3.6666666666666665, 'PODCAST': 5.0, 'YOUTUBE_SHOWS': 5.0, 'IMPRESSIONS_ONLINE_PUBS': 5.0, 'SERP': 3.6666666666666665, 'STEELHOUSE_RETARGETING': 1.0, 'FB_RETARGETING': 1.0, 'SEARCH_INDEX': 1.0}\n"
     ]
    }
   ],
   "source": [
    "# transformations\n",
    "\n",
    "# delay\n",
    "delay_channels = ['STEELHOUSE_PROSPECTING',\n",
    "                  'ADWORDS_YT',\n",
    "                  'OPENS_EMAIL',\n",
    "                  'PODCAST',\n",
    "                  'YOUTUBE_SHOWS',\n",
    "                  'IMPRESSIONS_ONLINE_PUBS',\n",
    "                  'SERP',\n",
    "                  'STEELHOUSE_RETARGETING',\n",
    "                  'FB_RETARGETING',\n",
    "                  'SEARCH_INDEX']\n",
    "delay_priors = [0.5, 1.5, 1, 1.5, 1.5, 1.5, 1, 0, 0, 0]\n",
    "norm_delay_priors = normalize(delay_priors, 1, 5)\n",
    "#norm_delay_priors = [0.5, 1.5, 1, 1.5, 1.5, 1.5, 1, 0.01, 0.01, 0.01]\n",
    "delay_dict = {channel: prior for channel, prior in zip(delay_channels, norm_delay_priors)}\n",
    "print(delay_dict)\n",
    "\n",
    "# saturation\n",
    "non_lin_channels = ['ADWORDS_LUMP',\n",
    "                    'ADWORDS_SEARCH', \n",
    "                    'PERFMAX', \n",
    "                    'BING', \n",
    "                    'FB_PROSPECTING',\n",
    "                    'IMPRESSIONS_BRANDED_SEARCH',\n",
    "                    'IMPRESSIONS_NONBRANDED_SEARCH',]\n",
    "\n",
    "# control\n",
    "control_vars = ['NEW_VEHICLE_SALES', 'USED_VEHICLE_SALES', 'LINKTREE_SESSION',\n",
    "       'PRODUCT_LAUNCH', 'MAJOR_CHANGES', 'AOV',\n",
    "       'NEW_VEHICLE_SALES_8', 'NEW_VEHICLE_SALES_14',\n",
    "       'USED_VEHICLE_SALES_12', 'USED_VEHICLE_SALES_16', 'PRODUCT_LAUNCH_8',\n",
    "       'MAJOR_CHANGES_6', 'MAJOR_CHANGES_10', 'MAJOR_CHANGES_12', 'ISHOLIDAY']\n",
    "index_vars = ['MONTHNAME_Apr', 'MONTHNAME_Aug',\n",
    "       'MONTHNAME_Dec', 'MONTHNAME_Feb', 'MONTHNAME_Jul',\n",
    "       'MONTHNAME_Jun', 'MONTHNAME_Mar', 'MONTHNAME_May', 'MONTHNAME_Nov',\n",
    "       'MONTHNAME_Oct', 'MONTHNAME_Sep']\n",
    "                    \n",
    "#outcome\n",
    "outcome = 'SALES'"
   ]
  },
  {
   "cell_type": "code",
   "execution_count": 26,
   "id": "3a6aa47a",
   "metadata": {
    "scrolled": false
   },
   "outputs": [
    {
     "name": "stdout",
     "output_type": "stream",
     "text": [
      "Adding Delayed Channels: STEELHOUSE_PROSPECTING\n",
      "Adding Delayed Channels: ADWORDS_YT\n",
      "Adding Delayed Channels: OPENS_EMAIL\n",
      "Adding Delayed Channels: PODCAST\n",
      "Adding Delayed Channels: YOUTUBE_SHOWS\n",
      "Adding Delayed Channels: IMPRESSIONS_ONLINE_PUBS\n",
      "Adding Delayed Channels: SERP\n",
      "Adding Delayed Channels: STEELHOUSE_RETARGETING\n",
      "Adding Delayed Channels: FB_RETARGETING\n",
      "Adding Delayed Channels: SEARCH_INDEX\n",
      "Adding Non-Linear Logistic Channel: ADWORDS_LUMP\n",
      "Adding Non-Linear Logistic Channel: ADWORDS_SEARCH\n",
      "Adding Non-Linear Logistic Channel: PERFMAX\n",
      "Adding Non-Linear Logistic Channel: BING\n",
      "Adding Non-Linear Logistic Channel: FB_PROSPECTING\n",
      "Adding Non-Linear Logistic Channel: IMPRESSIONS_BRANDED_SEARCH\n",
      "Adding Non-Linear Logistic Channel: IMPRESSIONS_NONBRANDED_SEARCH\n",
      "Adding control: NEW_VEHICLE_SALES\n",
      "Adding control: USED_VEHICLE_SALES\n",
      "Adding control: LINKTREE_SESSION\n",
      "Adding control: PRODUCT_LAUNCH\n",
      "Adding control: MAJOR_CHANGES\n",
      "Adding control: AOV\n",
      "Adding control: NEW_VEHICLE_SALES_8\n",
      "Adding control: NEW_VEHICLE_SALES_14\n",
      "Adding control: USED_VEHICLE_SALES_12\n",
      "Adding control: USED_VEHICLE_SALES_16\n",
      "Adding control: PRODUCT_LAUNCH_8\n",
      "Adding control: MAJOR_CHANGES_6\n",
      "Adding control: MAJOR_CHANGES_10\n",
      "Adding control: MAJOR_CHANGES_12\n",
      "Adding control: ISHOLIDAY\n",
      "Adding Index Variable: MONTHNAME_Apr\n",
      "Adding Index Variable: MONTHNAME_Aug\n",
      "Adding Index Variable: MONTHNAME_Dec\n",
      "Adding Index Variable: MONTHNAME_Feb\n",
      "Adding Index Variable: MONTHNAME_Jul\n",
      "Adding Index Variable: MONTHNAME_Jun\n",
      "Adding Index Variable: MONTHNAME_Mar\n",
      "Adding Index Variable: MONTHNAME_May\n",
      "Adding Index Variable: MONTHNAME_Nov\n",
      "Adding Index Variable: MONTHNAME_Oct\n",
      "Adding Index Variable: MONTHNAME_Sep\n"
     ]
    },
    {
     "name": "stderr",
     "output_type": "stream",
     "text": [
      "Auto-assigning NUTS sampler...\n",
      "Initializing NUTS using jitter+adapt_diag...\n",
      "/home/ec2-user/anaconda3/envs/python3/lib/python3.8/site-packages/pymc/aesaraf.py:1005: UserWarning: The parameter 'updates' of aesara.function() expects an OrderedDict, got <class 'dict'>. Using a standard dictionary here results in non-deterministic behavior. You should use an OrderedDict if you are using Python 2.7 (collections.OrderedDict for older python), or use a list of (shared, update) pairs. Do not just convert your dictionary to this type before the call as the conversion will still be non-deterministic.\n",
      "  aesara_function = aesara.function(\n",
      "Multiprocess sampling (4 chains in 4 jobs)\n",
      "NUTS: [y, beta_STEELHOUSE_PROSPECTING, alpha_STEELHOUSE_PROSPECTING, mu_STEELHOUSE_PROSPECTING, beta_ADWORDS_YT, alpha_ADWORDS_YT, mu_ADWORDS_YT, beta_OPENS_EMAIL, alpha_OPENS_EMAIL, mu_OPENS_EMAIL, beta_PODCAST, alpha_PODCAST, mu_PODCAST, beta_YOUTUBE_SHOWS, alpha_YOUTUBE_SHOWS, mu_YOUTUBE_SHOWS, beta_IMPRESSIONS_ONLINE_PUBS, alpha_IMPRESSIONS_ONLINE_PUBS, mu_IMPRESSIONS_ONLINE_PUBS, beta_SERP, alpha_SERP, mu_SERP, beta_STEELHOUSE_RETARGETING, alpha_STEELHOUSE_RETARGETING, mu_STEELHOUSE_RETARGETING, beta_FB_RETARGETING, alpha_FB_RETARGETING, mu_FB_RETARGETING, beta_SEARCH_INDEX, alpha_SEARCH_INDEX, mu_SEARCH_INDEX, beta_ADWORDS_LUMP, mu_ADWORDS_LUMP, beta_ADWORDS_SEARCH, mu_ADWORDS_SEARCH, beta_PERFMAX, mu_PERFMAX, beta_BING, mu_BING, beta_FB_PROSPECTING, mu_FB_PROSPECTING, beta_IMPRESSIONS_BRANDED_SEARCH, mu_IMPRESSIONS_BRANDED_SEARCH, beta_IMPRESSIONS_NONBRANDED_SEARCH, mu_IMPRESSIONS_NONBRANDED_SEARCH, beta_NEW_VEHICLE_SALES, beta_USED_VEHICLE_SALES, beta_LINKTREE_SESSION, beta_PRODUCT_LAUNCH, beta_MAJOR_CHANGES, beta_AOV, beta_NEW_VEHICLE_SALES_8, beta_NEW_VEHICLE_SALES_14, beta_USED_VEHICLE_SALES_12, beta_USED_VEHICLE_SALES_16, beta_PRODUCT_LAUNCH_8, beta_MAJOR_CHANGES_6, beta_MAJOR_CHANGES_10, beta_MAJOR_CHANGES_12, beta_ISHOLIDAY, beta_MONTHNAME_Apr, beta_MONTHNAME_Aug, beta_MONTHNAME_Dec, beta_MONTHNAME_Feb, beta_MONTHNAME_Jul, beta_MONTHNAME_Jun, beta_MONTHNAME_Mar, beta_MONTHNAME_May, beta_MONTHNAME_Nov, beta_MONTHNAME_Oct, beta_MONTHNAME_Sep, sigma]\n"
     ]
    },
    {
     "data": {
      "text/html": [
       "\n",
       "<style>\n",
       "    /* Turns off some styling */\n",
       "    progress {\n",
       "        /* gets rid of default border in Firefox and Opera. */\n",
       "        border: none;\n",
       "        /* Needs to be in here for Safari polyfill so background images work as expected. */\n",
       "        background-size: auto;\n",
       "    }\n",
       "    progress:not([value]), progress:not([value])::-webkit-progress-bar {\n",
       "        background: repeating-linear-gradient(45deg, #7e7e7e, #7e7e7e 10px, #5c5c5c 10px, #5c5c5c 20px);\n",
       "    }\n",
       "    .progress-bar-interrupted, .progress-bar-interrupted::-webkit-progress-bar {\n",
       "        background: #F44336;\n",
       "    }\n",
       "</style>\n"
      ],
      "text/plain": [
       "<IPython.core.display.HTML object>"
      ]
     },
     "metadata": {},
     "output_type": "display_data"
    },
    {
     "data": {
      "text/html": [
       "\n",
       "    <div>\n",
       "      <progress value='606' class='' max='14000' style='width:300px; height:20px; vertical-align: middle;'></progress>\n",
       "      4.33% [606/14000 00:04&lt;01:41 Sampling 4 chains, 0 divergences]\n",
       "    </div>\n",
       "    "
      ],
      "text/plain": [
       "<IPython.core.display.HTML object>"
      ]
     },
     "metadata": {},
     "output_type": "display_data"
    },
    {
     "name": "stderr",
     "output_type": "stream",
     "text": [
      "/home/ec2-user/anaconda3/envs/python3/lib/python3.8/site-packages/pymc/step_methods/hmc/quadpotential.py:258: RuntimeWarning: divide by zero encountered in true_divide\n",
      "  np.divide(1, self._stds, out=self._inv_stds)\n",
      "/home/ec2-user/anaconda3/envs/python3/lib/python3.8/site-packages/pymc/step_methods/hmc/quadpotential.py:237: RuntimeWarning: invalid value encountered in multiply\n",
      "  return np.multiply(self._var, x, out=out)\n",
      "/home/ec2-user/anaconda3/envs/python3/lib/python3.8/site-packages/pymc/step_methods/hmc/quadpotential.py:258: RuntimeWarning: divide by zero encountered in true_divide\n",
      "  np.divide(1, self._stds, out=self._inv_stds)\n",
      "/home/ec2-user/anaconda3/envs/python3/lib/python3.8/site-packages/pymc/step_methods/hmc/quadpotential.py:237: RuntimeWarning: invalid value encountered in multiply\n",
      "  return np.multiply(self._var, x, out=out)\n",
      "/home/ec2-user/anaconda3/envs/python3/lib/python3.8/site-packages/pymc/step_methods/hmc/quadpotential.py:258: RuntimeWarning: divide by zero encountered in true_divide\n",
      "  np.divide(1, self._stds, out=self._inv_stds)\n",
      "/home/ec2-user/anaconda3/envs/python3/lib/python3.8/site-packages/pymc/step_methods/hmc/quadpotential.py:237: RuntimeWarning: invalid value encountered in multiply\n",
      "  return np.multiply(self._var, x, out=out)\n"
     ]
    },
    {
     "ename": "RuntimeError",
     "evalue": "Chain 2 failed.",
     "output_type": "error",
     "traceback": [
      "\u001b[0;31m---------------------------------------------------------------------------\u001b[0m",
      "\u001b[0;31mRemoteTraceback\u001b[0m                           Traceback (most recent call last)",
      "\u001b[0;31mRemoteTraceback\u001b[0m: \n\"\"\"\nTraceback (most recent call last):\n  File \"/home/ec2-user/anaconda3/envs/python3/lib/python3.8/site-packages/pymc/parallel_sampling.py\", line 125, in run\n    self._start_loop()\n  File \"/home/ec2-user/anaconda3/envs/python3/lib/python3.8/site-packages/pymc/parallel_sampling.py\", line 178, in _start_loop\n    point, stats = self._compute_point()\n  File \"/home/ec2-user/anaconda3/envs/python3/lib/python3.8/site-packages/pymc/parallel_sampling.py\", line 203, in _compute_point\n    point, stats = self._step_method.step(self._point)\n  File \"/home/ec2-user/anaconda3/envs/python3/lib/python3.8/site-packages/pymc/step_methods/arraystep.py\", line 286, in step\n    return super().step(point)\n  File \"/home/ec2-user/anaconda3/envs/python3/lib/python3.8/site-packages/pymc/step_methods/arraystep.py\", line 208, in step\n    step_res = self.astep(q)\n  File \"/home/ec2-user/anaconda3/envs/python3/lib/python3.8/site-packages/pymc/step_methods/hmc/base_hmc.py\", line 165, in astep\n    self.potential.raise_ok(q0.point_map_info)\n  File \"/home/ec2-user/anaconda3/envs/python3/lib/python3.8/site-packages/pymc/step_methods/hmc/quadpotential.py\", line 308, in raise_ok\n    raise ValueError(\"\\n\".join(errmsg))\nValueError: Mass matrix contains zeros on the diagonal. \nThe derivative of RV `y`.ravel()[[]] is zero.\nThe derivative of RV `beta_STEELHOUSE_PROSPECTING_log__`.ravel()[[]] is zero.\nThe derivative of RV `alpha_STEELHOUSE_PROSPECTING_logodds__`.ravel()[[]] is zero.\nThe derivative of RV `mu_STEELHOUSE_PROSPECTING_log__`.ravel()[[]] is zero.\nThe derivative of RV `beta_ADWORDS_YT`.ravel()[[]] is zero.\nThe derivative of RV `alpha_ADWORDS_YT_logodds__`.ravel()[[]] is zero.\nThe derivative of RV `mu_ADWORDS_YT_log__`.ravel()[[]] is zero.\nThe derivative of RV `beta_OPENS_EMAIL`.ravel()[[]] is zero.\nThe derivative of RV `alpha_OPENS_EMAIL_logodds__`.ravel()[[]] is zero.\nThe derivative of RV `mu_OPENS_EMAIL_log__`.ravel()[[]] is zero.\nThe derivative of RV `beta_PODCAST_log__`.ravel()[[]] is zero.\nThe derivative of RV `alpha_PODCAST_logodds__`.ravel()[[]] is zero.\nThe derivative of RV `mu_PODCAST_log__`.ravel()[[]] is zero.\nThe derivative of RV `beta_YOUTUBE_SHOWS`.ravel()[[]] is zero.\nThe derivative of RV `alpha_YOUTUBE_SHOWS_logodds__`.ravel()[[]] is zero.\nThe derivative of RV `mu_YOUTUBE_SHOWS_log__`.ravel()[[]] is zero.\nThe derivative of RV `beta_IMPRESSIONS_ONLINE_PUBS`.ravel()[[]] is zero.\nThe derivative of RV `alpha_IMPRESSIONS_ONLINE_PUBS_logodds__`.ravel()[[]] is zero.\nThe derivative of RV `mu_IMPRESSIONS_ONLINE_PUBS_log__`.ravel()[[]] is zero.\nThe derivative of RV `beta_SERP_log__`.ravel()[[]] is zero.\nThe derivative of RV `alpha_SERP_logodds__`.ravel()[[]] is zero.\nThe derivative of RV `mu_SERP_log__`.ravel()[[]] is zero.\nThe derivative of RV `beta_STEELHOUSE_RETARGETING_log__`.ravel()[[]] is zero.\nThe derivative of RV `alpha_STEELHOUSE_RETARGETING_logodds__`.ravel()[[]] is zero.\nThe derivative of RV `mu_STEELHOUSE_RETARGETING_log__`.ravel()[[]] is zero.\nThe derivative of RV `beta_FB_RETARGETING`.ravel()[[]] is zero.\nThe derivative of RV `alpha_FB_RETARGETING_logodds__`.ravel()[[]] is zero.\nThe derivative of RV `mu_FB_RETARGETING_log__`.ravel()[[]] is zero.\nThe derivative of RV `beta_SEARCH_INDEX`.ravel()[[]] is zero.\nThe derivative of RV `alpha_SEARCH_INDEX_logodds__`.ravel()[[]] is zero.\nThe derivative of RV `mu_SEARCH_INDEX_log__`.ravel()[[]] is zero.\nThe derivative of RV `beta_ADWORDS_LUMP`.ravel()[[]] is zero.\nThe derivative of RV `mu_ADWORDS_LUMP_log__`.ravel()[[]] is zero.\nThe derivative of RV `beta_ADWORDS_SEARCH`.ravel()[[0]] is zero.\nThe derivative of RV `mu_ADWORDS_SEARCH_log__`.ravel()[[]] is zero.\nThe derivative of RV `beta_PERFMAX`.ravel()[[]] is zero.\nThe derivative of RV `mu_PERFMAX_log__`.ravel()[[]] is zero.\nThe derivative of RV `beta_BING_log__`.ravel()[[]] is zero.\nThe derivative of RV `mu_BING_log__`.ravel()[[]] is zero.\nThe derivative of RV `beta_FB_PROSPECTING`.ravel()[[]] is zero.\nThe derivative of RV `mu_FB_PROSPECTING_log__`.ravel()[[]] is zero.\nThe derivative of RV `beta_IMPRESSIONS_BRANDED_SEARCH`.ravel()[[]] is zero.\nThe derivative of RV `mu_IMPRESSIONS_BRANDED_SEARCH_log__`.ravel()[[]] is zero.\nThe derivative of RV `beta_IMPRESSIONS_NONBRANDED_SEARCH`.ravel()[[]] is zero.\nThe derivative of RV `mu_IMPRESSIONS_NONBRANDED_SEARCH_log__`.ravel()[[]] is zero.\nThe derivative of RV `beta_NEW_VEHICLE_SALES`.ravel()[[]] is zero.\nThe derivative of RV `beta_USED_VEHICLE_SALES`.ravel()[[]] is zero.\nThe derivative of RV `beta_LINKTREE_SESSION_log__`.ravel()[[]] is zero.\nThe derivative of RV `beta_PRODUCT_LAUNCH`.ravel()[[]] is zero.\nThe derivative of RV `beta_MAJOR_CHANGES`.ravel()[[]] is zero.\nThe derivative of RV `beta_AOV`.ravel()[[]] is zero.\nThe derivative of RV `beta_NEW_VEHICLE_SALES_8_log__`.ravel()[[]] is zero.\nThe derivative of RV `beta_NEW_VEHICLE_SALES_14`.ravel()[[]] is zero.\nThe derivative of RV `beta_USED_VEHICLE_SALES_12`.ravel()[[]] is zero.\nThe derivative of RV `beta_USED_VEHICLE_SALES_16`.ravel()[[]] is zero.\nThe derivative of RV `beta_PRODUCT_LAUNCH_8`.ravel()[[]] is zero.\nThe derivative of RV `beta_MAJOR_CHANGES_6`.ravel()[[]] is zero.\nThe derivative of RV `beta_MAJOR_CHANGES_10_log__`.ravel()[[]] is zero.\nThe derivative of RV `beta_MAJOR_CHANGES_12`.ravel()[[]] is zero.\nThe derivative of RV `beta_ISHOLIDAY`.ravel()[[]] is zero.\nThe derivative of RV `beta_MONTHNAME_Apr`.ravel()[[]] is zero.\nThe derivative of RV `beta_MONTHNAME_Aug`.ravel()[[]] is zero.\nThe derivative of RV `beta_MONTHNAME_Dec`.ravel()[[]] is zero.\nThe derivative of RV `beta_MONTHNAME_Feb`.ravel()[[]] is zero.\nThe derivative of RV `beta_MONTHNAME_Jul`.ravel()[[]] is zero.\nThe derivative of RV `beta_MONTHNAME_Jun`.ravel()[[]] is zero.\nThe derivative of RV `beta_MONTHNAME_Mar`.ravel()[[]] is zero.\nThe derivative of RV `beta_MONTHNAME_May`.ravel()[[]] is zero.\nThe derivative of RV `beta_MONTHNAME_Nov`.ravel()[[]] is zero.\nThe derivative of RV `beta_MONTHNAME_Oct`.ravel()[[]] is zero.\nThe derivative of RV `beta_MONTHNAME_Sep`.ravel()[[]] is zero.\nThe derivative of RV `sigma_log__`.ravel()[[]] is zero.\n\"\"\"",
      "\nThe above exception was the direct cause of the following exception:\n",
      "\u001b[0;31mValueError\u001b[0m                                Traceback (most recent call last)",
      "\u001b[0;32m~/anaconda3/envs/python3/lib/python3.8/site-packages/pymc/parallel_sampling.py\u001b[0m in \u001b[0;36mrun\u001b[0;34m()\u001b[0m\n\u001b[1;32m    124\u001b[0m             \u001b[0mself\u001b[0m\u001b[0;34m.\u001b[0m\u001b[0m_point\u001b[0m \u001b[0;34m=\u001b[0m \u001b[0mself\u001b[0m\u001b[0;34m.\u001b[0m\u001b[0m_make_numpy_refs\u001b[0m\u001b[0;34m(\u001b[0m\u001b[0;34m)\u001b[0m\u001b[0;34m\u001b[0m\u001b[0;34m\u001b[0m\u001b[0m\n\u001b[0;32m--> 125\u001b[0;31m             \u001b[0mself\u001b[0m\u001b[0;34m.\u001b[0m\u001b[0m_start_loop\u001b[0m\u001b[0;34m(\u001b[0m\u001b[0;34m)\u001b[0m\u001b[0;34m\u001b[0m\u001b[0;34m\u001b[0m\u001b[0m\n\u001b[0m\u001b[1;32m    126\u001b[0m         \u001b[0;32mexcept\u001b[0m \u001b[0mKeyboardInterrupt\u001b[0m\u001b[0;34m:\u001b[0m\u001b[0;34m\u001b[0m\u001b[0;34m\u001b[0m\u001b[0m\n",
      "\u001b[0;32m~/anaconda3/envs/python3/lib/python3.8/site-packages/pymc/parallel_sampling.py\u001b[0m in \u001b[0;36m_start_loop\u001b[0;34m()\u001b[0m\n\u001b[1;32m    177\u001b[0m                 \u001b[0;32mtry\u001b[0m\u001b[0;34m:\u001b[0m\u001b[0;34m\u001b[0m\u001b[0;34m\u001b[0m\u001b[0m\n\u001b[0;32m--> 178\u001b[0;31m                     \u001b[0mpoint\u001b[0m\u001b[0;34m,\u001b[0m \u001b[0mstats\u001b[0m \u001b[0;34m=\u001b[0m \u001b[0mself\u001b[0m\u001b[0;34m.\u001b[0m\u001b[0m_compute_point\u001b[0m\u001b[0;34m(\u001b[0m\u001b[0;34m)\u001b[0m\u001b[0;34m\u001b[0m\u001b[0;34m\u001b[0m\u001b[0m\n\u001b[0m\u001b[1;32m    179\u001b[0m                 \u001b[0;32mexcept\u001b[0m \u001b[0mSamplingError\u001b[0m \u001b[0;32mas\u001b[0m \u001b[0me\u001b[0m\u001b[0;34m:\u001b[0m\u001b[0;34m\u001b[0m\u001b[0;34m\u001b[0m\u001b[0m\n",
      "\u001b[0;32m~/anaconda3/envs/python3/lib/python3.8/site-packages/pymc/parallel_sampling.py\u001b[0m in \u001b[0;36m_compute_point\u001b[0;34m()\u001b[0m\n\u001b[1;32m    202\u001b[0m         \u001b[0;32mif\u001b[0m \u001b[0mself\u001b[0m\u001b[0;34m.\u001b[0m\u001b[0m_step_method\u001b[0m\u001b[0;34m.\u001b[0m\u001b[0mgenerates_stats\u001b[0m\u001b[0;34m:\u001b[0m\u001b[0;34m\u001b[0m\u001b[0;34m\u001b[0m\u001b[0m\n\u001b[0;32m--> 203\u001b[0;31m             \u001b[0mpoint\u001b[0m\u001b[0;34m,\u001b[0m \u001b[0mstats\u001b[0m \u001b[0;34m=\u001b[0m \u001b[0mself\u001b[0m\u001b[0;34m.\u001b[0m\u001b[0m_step_method\u001b[0m\u001b[0;34m.\u001b[0m\u001b[0mstep\u001b[0m\u001b[0;34m(\u001b[0m\u001b[0mself\u001b[0m\u001b[0;34m.\u001b[0m\u001b[0m_point\u001b[0m\u001b[0;34m)\u001b[0m\u001b[0;34m\u001b[0m\u001b[0;34m\u001b[0m\u001b[0m\n\u001b[0m\u001b[1;32m    204\u001b[0m         \u001b[0;32melse\u001b[0m\u001b[0;34m:\u001b[0m\u001b[0;34m\u001b[0m\u001b[0;34m\u001b[0m\u001b[0m\n",
      "\u001b[0;32m~/anaconda3/envs/python3/lib/python3.8/site-packages/pymc/step_methods/arraystep.py\u001b[0m in \u001b[0;36mstep\u001b[0;34m()\u001b[0m\n\u001b[1;32m    285\u001b[0m         \u001b[0mself\u001b[0m\u001b[0;34m.\u001b[0m\u001b[0m_logp_dlogp_func\u001b[0m\u001b[0;34m.\u001b[0m\u001b[0m_extra_are_set\u001b[0m \u001b[0;34m=\u001b[0m \u001b[0;32mTrue\u001b[0m\u001b[0;34m\u001b[0m\u001b[0;34m\u001b[0m\u001b[0m\n\u001b[0;32m--> 286\u001b[0;31m         \u001b[0;32mreturn\u001b[0m \u001b[0msuper\u001b[0m\u001b[0;34m(\u001b[0m\u001b[0;34m)\u001b[0m\u001b[0;34m.\u001b[0m\u001b[0mstep\u001b[0m\u001b[0;34m(\u001b[0m\u001b[0mpoint\u001b[0m\u001b[0;34m)\u001b[0m\u001b[0;34m\u001b[0m\u001b[0;34m\u001b[0m\u001b[0m\n\u001b[0m\u001b[1;32m    287\u001b[0m \u001b[0;34m\u001b[0m\u001b[0m\n",
      "\u001b[0;32m~/anaconda3/envs/python3/lib/python3.8/site-packages/pymc/step_methods/arraystep.py\u001b[0m in \u001b[0;36mstep\u001b[0;34m()\u001b[0m\n\u001b[1;32m    207\u001b[0m \u001b[0;34m\u001b[0m\u001b[0m\n\u001b[0;32m--> 208\u001b[0;31m         \u001b[0mstep_res\u001b[0m \u001b[0;34m=\u001b[0m \u001b[0mself\u001b[0m\u001b[0;34m.\u001b[0m\u001b[0mastep\u001b[0m\u001b[0;34m(\u001b[0m\u001b[0mq\u001b[0m\u001b[0;34m)\u001b[0m\u001b[0;34m\u001b[0m\u001b[0;34m\u001b[0m\u001b[0m\n\u001b[0m\u001b[1;32m    209\u001b[0m \u001b[0;34m\u001b[0m\u001b[0m\n",
      "\u001b[0;32m~/anaconda3/envs/python3/lib/python3.8/site-packages/pymc/step_methods/hmc/base_hmc.py\u001b[0m in \u001b[0;36mastep\u001b[0;34m()\u001b[0m\n\u001b[1;32m    164\u001b[0m             ]\n\u001b[0;32m--> 165\u001b[0;31m             \u001b[0mself\u001b[0m\u001b[0;34m.\u001b[0m\u001b[0mpotential\u001b[0m\u001b[0;34m.\u001b[0m\u001b[0mraise_ok\u001b[0m\u001b[0;34m(\u001b[0m\u001b[0mq0\u001b[0m\u001b[0;34m.\u001b[0m\u001b[0mpoint_map_info\u001b[0m\u001b[0;34m)\u001b[0m\u001b[0;34m\u001b[0m\u001b[0;34m\u001b[0m\u001b[0m\n\u001b[0m\u001b[1;32m    166\u001b[0m             message_energy = (\n",
      "\u001b[0;32m~/anaconda3/envs/python3/lib/python3.8/site-packages/pymc/step_methods/hmc/quadpotential.py\u001b[0m in \u001b[0;36mraise_ok\u001b[0;34m()\u001b[0m\n\u001b[1;32m    307\u001b[0m \u001b[0;34m\u001b[0m\u001b[0m\n\u001b[0;32m--> 308\u001b[0;31m             \u001b[0;32mraise\u001b[0m \u001b[0mValueError\u001b[0m\u001b[0;34m(\u001b[0m\u001b[0;34m\"\\n\"\u001b[0m\u001b[0;34m.\u001b[0m\u001b[0mjoin\u001b[0m\u001b[0;34m(\u001b[0m\u001b[0merrmsg\u001b[0m\u001b[0;34m)\u001b[0m\u001b[0;34m)\u001b[0m\u001b[0;34m\u001b[0m\u001b[0;34m\u001b[0m\u001b[0m\n\u001b[0m\u001b[1;32m    309\u001b[0m \u001b[0;34m\u001b[0m\u001b[0m\n",
      "\u001b[0;31mValueError\u001b[0m: Mass matrix contains zeros on the diagonal. \nThe derivative of RV `y`.ravel()[[]] is zero.\nThe derivative of RV `beta_STEELHOUSE_PROSPECTING_log__`.ravel()[[]] is zero.\nThe derivative of RV `alpha_STEELHOUSE_PROSPECTING_logodds__`.ravel()[[]] is zero.\nThe derivative of RV `mu_STEELHOUSE_PROSPECTING_log__`.ravel()[[]] is zero.\nThe derivative of RV `beta_ADWORDS_YT`.ravel()[[]] is zero.\nThe derivative of RV `alpha_ADWORDS_YT_logodds__`.ravel()[[]] is zero.\nThe derivative of RV `mu_ADWORDS_YT_log__`.ravel()[[]] is zero.\nThe derivative of RV `beta_OPENS_EMAIL`.ravel()[[]] is zero.\nThe derivative of RV `alpha_OPENS_EMAIL_logodds__`.ravel()[[]] is zero.\nThe derivative of RV `mu_OPENS_EMAIL_log__`.ravel()[[]] is zero.\nThe derivative of RV `beta_PODCAST_log__`.ravel()[[]] is zero.\nThe derivative of RV `alpha_PODCAST_logodds__`.ravel()[[]] is zero.\nThe derivative of RV `mu_PODCAST_log__`.ravel()[[]] is zero.\nThe derivative of RV `beta_YOUTUBE_SHOWS`.ravel()[[]] is zero.\nThe derivative of RV `alpha_YOUTUBE_SHOWS_logodds__`.ravel()[[]] is zero.\nThe derivative of RV `mu_YOUTUBE_SHOWS_log__`.ravel()[[]] is zero.\nThe derivative of RV `beta_IMPRESSIONS_ONLINE_PUBS`.ravel()[[]] is zero.\nThe derivative of RV `alpha_IMPRESSIONS_ONLINE_PUBS_logodds__`.ravel()[[]] is zero.\nThe derivative of RV `mu_IMPRESSIONS_ONLINE_PUBS_log__`.ravel()[[]] is zero.\nThe derivative of RV `beta_SERP_log__`.ravel()[[]] is zero.\nThe derivative of RV `alpha_SERP_logodds__`.ravel()[[]] is zero.\nThe derivative of RV `mu_SERP_log__`.ravel()[[]] is zero.\nThe derivative of RV `beta_STEELHOUSE_RETARGETING_log__`.ravel()[[]] is zero.\nThe derivative of RV `alpha_STEELHOUSE_RETARGETING_logodds__`.ravel()[[]] is zero.\nThe derivative of RV `mu_STEELHOUSE_RETARGETING_log__`.ravel()[[]] is zero.\nThe derivative of RV `beta_FB_RETARGETING`.ravel()[[]] is zero.\nThe derivative of RV `alpha_FB_RETARGETING_logodds__`.ravel()[[]] is zero.\nThe derivative of RV `mu_FB_RETARGETING_log__`.ravel()[[]] is zero.\nThe derivative of RV `beta_SEARCH_INDEX`.ravel()[[]] is zero.\nThe derivative of RV `alpha_SEARCH_INDEX_logodds__`.ravel()[[]] is zero.\nThe derivative of RV `mu_SEARCH_INDEX_log__`.ravel()[[]] is zero.\nThe derivative of RV `beta_ADWORDS_LUMP`.ravel()[[]] is zero.\nThe derivative of RV `mu_ADWORDS_LUMP_log__`.ravel()[[]] is zero.\nThe derivative of RV `beta_ADWORDS_SEARCH`.ravel()[[0]] is zero.\nThe derivative of RV `mu_ADWORDS_SEARCH_log__`.ravel()[[]] is zero.\nThe derivative of RV `beta_PERFMAX`.ravel()[[]] is zero.\nThe derivative of RV `mu_PERFMAX_log__`.ravel()[[]] is zero.\nThe derivative of RV `beta_BING_log__`.ravel()[[]] is zero.\nThe derivative of RV `mu_BING_log__`.ravel()[[]] is zero.\nThe derivative of RV `beta_FB_PROSPECTING`.ravel()[[]] is zero.\nThe derivative of RV `mu_FB_PROSPECTING_log__`.ravel()[[]] is zero.\nThe derivative of RV `beta_IMPRESSIONS_BRANDED_SEARCH`.ravel()[[]] is zero.\nThe derivative of RV `mu_IMPRESSIONS_BRANDED_SEARCH_log__`.ravel()[[]] is zero.\nThe derivative of RV `beta_IMPRESSIONS_NONBRANDED_SEARCH`.ravel()[[]] is zero.\nThe derivative of RV `mu_IMPRESSIONS_NONBRANDED_SEARCH_log__`.ravel()[[]] is zero.\nThe derivative of RV `beta_NEW_VEHICLE_SALES`.ravel()[[]] is zero.\nThe derivative of RV `beta_USED_VEHICLE_SALES`.ravel()[[]] is zero.\nThe derivative of RV `beta_LINKTREE_SESSION_log__`.ravel()[[]] is zero.\nThe derivative of RV `beta_PRODUCT_LAUNCH`.ravel()[[]] is zero.\nThe derivative of RV `beta_MAJOR_CHANGES`.ravel()[[]] is zero.\nThe derivative of RV `beta_AOV`.ravel()[[]] is zero.\nThe derivative of RV `beta_NEW_VEHICLE_SALES_8_log__`.ravel()[[]] is zero.\nThe derivative of RV `beta_NEW_VEHICLE_SALES_14`.ravel()[[]] is zero.\nThe derivative of RV `beta_USED_VEHICLE_SALES_12`.ravel()[[]] is zero.\nThe derivative of RV `beta_USED_VEHICLE_SALES_16`.ravel()[[]] is zero.\nThe derivative of RV `beta_PRODUCT_LAUNCH_8`.ravel()[[]] is zero.\nThe derivative of RV `beta_MAJOR_CHANGES_6`.ravel()[[]] is zero.\nThe derivative of RV `beta_MAJOR_CHANGES_10_log__`.ravel()[[]] is zero.\nThe derivative of RV `beta_MAJOR_CHANGES_12`.ravel()[[]] is zero.\nThe derivative of RV `beta_ISHOLIDAY`.ravel()[[]] is zero.\nThe derivative of RV `beta_MONTHNAME_Apr`.ravel()[[]] is zero.\nThe derivative of RV `beta_MONTHNAME_Aug`.ravel()[[]] is zero.\nThe derivative of RV `beta_MONTHNAME_Dec`.ravel()[[]] is zero.\nThe derivative of RV `beta_MONTHNAME_Feb`.ravel()[[]] is zero.\nThe derivative of RV `beta_MONTHNAME_Jul`.ravel()[[]] is zero.\nThe derivative of RV `beta_MONTHNAME_Jun`.ravel()[[]] is zero.\nThe derivative of RV `beta_MONTHNAME_Mar`.ravel()[[]] is zero.\nThe derivative of RV `beta_MONTHNAME_May`.ravel()[[]] is zero.\nThe derivative of RV `beta_MONTHNAME_Nov`.ravel()[[]] is zero.\nThe derivative of RV `beta_MONTHNAME_Oct`.ravel()[[]] is zero.\nThe derivative of RV `beta_MONTHNAME_Sep`.ravel()[[]] is zero.\nThe derivative of RV `sigma_log__`.ravel()[[]] is zero.",
      "\nThe above exception was the direct cause of the following exception:\n",
      "\u001b[0;31mRuntimeError\u001b[0m                              Traceback (most recent call last)",
      "\u001b[0;32m/tmp/ipykernel_6083/1150688487.py\u001b[0m in \u001b[0;36m<cell line: 4>\u001b[0;34m()\u001b[0m\n\u001b[1;32m     81\u001b[0m     \u001b[0mlikelihood\u001b[0m \u001b[0;34m=\u001b[0m \u001b[0mNormal\u001b[0m\u001b[0;34m(\u001b[0m\u001b[0moutcome\u001b[0m\u001b[0;34m,\u001b[0m \u001b[0mmu\u001b[0m\u001b[0;34m=\u001b[0m\u001b[0msum\u001b[0m\u001b[0;34m(\u001b[0m\u001b[0mresponse_mean\u001b[0m\u001b[0;34m)\u001b[0m\u001b[0;34m,\u001b[0m \u001b[0msigma\u001b[0m\u001b[0;34m=\u001b[0m\u001b[0msigma\u001b[0m\u001b[0;34m,\u001b[0m \u001b[0mobserved\u001b[0m\u001b[0;34m=\u001b[0m\u001b[0mdf\u001b[0m\u001b[0;34m[\u001b[0m\u001b[0moutcome\u001b[0m\u001b[0;34m]\u001b[0m\u001b[0;34m.\u001b[0m\u001b[0mvalues\u001b[0m\u001b[0;34m)\u001b[0m\u001b[0;34m\u001b[0m\u001b[0;34m\u001b[0m\u001b[0m\n\u001b[1;32m     82\u001b[0m \u001b[0;34m\u001b[0m\u001b[0m\n\u001b[0;32m---> 83\u001b[0;31m     \u001b[0mtrace\u001b[0m \u001b[0;34m=\u001b[0m \u001b[0mpm\u001b[0m\u001b[0;34m.\u001b[0m\u001b[0msample\u001b[0m\u001b[0;34m(\u001b[0m\u001b[0;36m3000\u001b[0m\u001b[0;34m,\u001b[0m\u001b[0mtune\u001b[0m\u001b[0;34m=\u001b[0m\u001b[0;36m500\u001b[0m\u001b[0;34m,\u001b[0m \u001b[0minit\u001b[0m\u001b[0;34m=\u001b[0m\u001b[0;34m\"auto\"\u001b[0m\u001b[0;34m)\u001b[0m\u001b[0;34m\u001b[0m\u001b[0;34m\u001b[0m\u001b[0m\n\u001b[0m",
      "\u001b[0;32m~/anaconda3/envs/python3/lib/python3.8/site-packages/pymc/sampling.py\u001b[0m in \u001b[0;36msample\u001b[0;34m(draws, step, init, n_init, initvals, trace, chain_idx, chains, cores, tune, progressbar, model, random_seed, discard_tuned_samples, compute_convergence_checks, callback, jitter_max_retries, return_inferencedata, idata_kwargs, mp_ctx, **kwargs)\u001b[0m\n\u001b[1;32m    541\u001b[0m         \u001b[0m_print_step_hierarchy\u001b[0m\u001b[0;34m(\u001b[0m\u001b[0mstep\u001b[0m\u001b[0;34m)\u001b[0m\u001b[0;34m\u001b[0m\u001b[0;34m\u001b[0m\u001b[0m\n\u001b[1;32m    542\u001b[0m         \u001b[0;32mtry\u001b[0m\u001b[0;34m:\u001b[0m\u001b[0;34m\u001b[0m\u001b[0;34m\u001b[0m\u001b[0m\n\u001b[0;32m--> 543\u001b[0;31m             \u001b[0mmtrace\u001b[0m \u001b[0;34m=\u001b[0m \u001b[0m_mp_sample\u001b[0m\u001b[0;34m(\u001b[0m\u001b[0;34m**\u001b[0m\u001b[0msample_args\u001b[0m\u001b[0;34m,\u001b[0m \u001b[0;34m**\u001b[0m\u001b[0mparallel_args\u001b[0m\u001b[0;34m)\u001b[0m\u001b[0;34m\u001b[0m\u001b[0;34m\u001b[0m\u001b[0m\n\u001b[0m\u001b[1;32m    544\u001b[0m         \u001b[0;32mexcept\u001b[0m \u001b[0mpickle\u001b[0m\u001b[0;34m.\u001b[0m\u001b[0mPickleError\u001b[0m\u001b[0;34m:\u001b[0m\u001b[0;34m\u001b[0m\u001b[0;34m\u001b[0m\u001b[0m\n\u001b[1;32m    545\u001b[0m             \u001b[0m_log\u001b[0m\u001b[0;34m.\u001b[0m\u001b[0mwarning\u001b[0m\u001b[0;34m(\u001b[0m\u001b[0;34m\"Could not pickle model, sampling singlethreaded.\"\u001b[0m\u001b[0;34m)\u001b[0m\u001b[0;34m\u001b[0m\u001b[0;34m\u001b[0m\u001b[0m\n",
      "\u001b[0;32m~/anaconda3/envs/python3/lib/python3.8/site-packages/pymc/sampling.py\u001b[0m in \u001b[0;36m_mp_sample\u001b[0;34m(draws, tune, step, chains, cores, chain, random_seed, start, progressbar, trace, model, callback, discard_tuned_samples, mp_ctx, **kwargs)\u001b[0m\n\u001b[1;32m   1468\u001b[0m         \u001b[0;32mtry\u001b[0m\u001b[0;34m:\u001b[0m\u001b[0;34m\u001b[0m\u001b[0;34m\u001b[0m\u001b[0m\n\u001b[1;32m   1469\u001b[0m             \u001b[0;32mwith\u001b[0m \u001b[0msampler\u001b[0m\u001b[0;34m:\u001b[0m\u001b[0;34m\u001b[0m\u001b[0;34m\u001b[0m\u001b[0m\n\u001b[0;32m-> 1470\u001b[0;31m                 \u001b[0;32mfor\u001b[0m \u001b[0mdraw\u001b[0m \u001b[0;32min\u001b[0m \u001b[0msampler\u001b[0m\u001b[0;34m:\u001b[0m\u001b[0;34m\u001b[0m\u001b[0;34m\u001b[0m\u001b[0m\n\u001b[0m\u001b[1;32m   1471\u001b[0m                     \u001b[0mstrace\u001b[0m \u001b[0;34m=\u001b[0m \u001b[0mtraces\u001b[0m\u001b[0;34m[\u001b[0m\u001b[0mdraw\u001b[0m\u001b[0;34m.\u001b[0m\u001b[0mchain\u001b[0m \u001b[0;34m-\u001b[0m \u001b[0mchain\u001b[0m\u001b[0;34m]\u001b[0m\u001b[0;34m\u001b[0m\u001b[0;34m\u001b[0m\u001b[0m\n\u001b[1;32m   1472\u001b[0m                     \u001b[0;32mif\u001b[0m \u001b[0mstrace\u001b[0m\u001b[0;34m.\u001b[0m\u001b[0msupports_sampler_stats\u001b[0m \u001b[0;32mand\u001b[0m \u001b[0mdraw\u001b[0m\u001b[0;34m.\u001b[0m\u001b[0mstats\u001b[0m \u001b[0;32mis\u001b[0m \u001b[0;32mnot\u001b[0m \u001b[0;32mNone\u001b[0m\u001b[0;34m:\u001b[0m\u001b[0;34m\u001b[0m\u001b[0;34m\u001b[0m\u001b[0m\n",
      "\u001b[0;32m~/anaconda3/envs/python3/lib/python3.8/site-packages/pymc/parallel_sampling.py\u001b[0m in \u001b[0;36m__iter__\u001b[0;34m(self)\u001b[0m\n\u001b[1;32m    458\u001b[0m \u001b[0;34m\u001b[0m\u001b[0m\n\u001b[1;32m    459\u001b[0m         \u001b[0;32mwhile\u001b[0m \u001b[0mself\u001b[0m\u001b[0;34m.\u001b[0m\u001b[0m_active\u001b[0m\u001b[0;34m:\u001b[0m\u001b[0;34m\u001b[0m\u001b[0;34m\u001b[0m\u001b[0m\n\u001b[0;32m--> 460\u001b[0;31m             \u001b[0mdraw\u001b[0m \u001b[0;34m=\u001b[0m \u001b[0mProcessAdapter\u001b[0m\u001b[0;34m.\u001b[0m\u001b[0mrecv_draw\u001b[0m\u001b[0;34m(\u001b[0m\u001b[0mself\u001b[0m\u001b[0;34m.\u001b[0m\u001b[0m_active\u001b[0m\u001b[0;34m)\u001b[0m\u001b[0;34m\u001b[0m\u001b[0;34m\u001b[0m\u001b[0m\n\u001b[0m\u001b[1;32m    461\u001b[0m             \u001b[0mproc\u001b[0m\u001b[0;34m,\u001b[0m \u001b[0mis_last\u001b[0m\u001b[0;34m,\u001b[0m \u001b[0mdraw\u001b[0m\u001b[0;34m,\u001b[0m \u001b[0mtuning\u001b[0m\u001b[0;34m,\u001b[0m \u001b[0mstats\u001b[0m\u001b[0;34m,\u001b[0m \u001b[0mwarns\u001b[0m \u001b[0;34m=\u001b[0m \u001b[0mdraw\u001b[0m\u001b[0;34m\u001b[0m\u001b[0;34m\u001b[0m\u001b[0m\n\u001b[1;32m    462\u001b[0m             \u001b[0mself\u001b[0m\u001b[0;34m.\u001b[0m\u001b[0m_total_draws\u001b[0m \u001b[0;34m+=\u001b[0m \u001b[0;36m1\u001b[0m\u001b[0;34m\u001b[0m\u001b[0;34m\u001b[0m\u001b[0m\n",
      "\u001b[0;32m~/anaconda3/envs/python3/lib/python3.8/site-packages/pymc/parallel_sampling.py\u001b[0m in \u001b[0;36mrecv_draw\u001b[0;34m(processes, timeout)\u001b[0m\n\u001b[1;32m    347\u001b[0m             \u001b[0;32melse\u001b[0m\u001b[0;34m:\u001b[0m\u001b[0;34m\u001b[0m\u001b[0;34m\u001b[0m\u001b[0m\n\u001b[1;32m    348\u001b[0m                 \u001b[0merror\u001b[0m \u001b[0;34m=\u001b[0m \u001b[0mRuntimeError\u001b[0m\u001b[0;34m(\u001b[0m\u001b[0;34m\"Chain %s failed.\"\u001b[0m \u001b[0;34m%\u001b[0m \u001b[0mproc\u001b[0m\u001b[0;34m.\u001b[0m\u001b[0mchain\u001b[0m\u001b[0;34m)\u001b[0m\u001b[0;34m\u001b[0m\u001b[0;34m\u001b[0m\u001b[0m\n\u001b[0;32m--> 349\u001b[0;31m             \u001b[0;32mraise\u001b[0m \u001b[0merror\u001b[0m \u001b[0;32mfrom\u001b[0m \u001b[0mold_error\u001b[0m\u001b[0;34m\u001b[0m\u001b[0;34m\u001b[0m\u001b[0m\n\u001b[0m\u001b[1;32m    350\u001b[0m         \u001b[0;32melif\u001b[0m \u001b[0mmsg\u001b[0m\u001b[0;34m[\u001b[0m\u001b[0;36m0\u001b[0m\u001b[0;34m]\u001b[0m \u001b[0;34m==\u001b[0m \u001b[0;34m\"writing_done\"\u001b[0m\u001b[0;34m:\u001b[0m\u001b[0;34m\u001b[0m\u001b[0;34m\u001b[0m\u001b[0m\n\u001b[1;32m    351\u001b[0m             \u001b[0mproc\u001b[0m\u001b[0;34m.\u001b[0m\u001b[0m_readable\u001b[0m \u001b[0;34m=\u001b[0m \u001b[0;32mTrue\u001b[0m\u001b[0;34m\u001b[0m\u001b[0;34m\u001b[0m\u001b[0m\n",
      "\u001b[0;31mRuntimeError\u001b[0m: Chain 2 failed."
     ]
    }
   ],
   "source": [
    "# modeling\n",
    "df_train = df.drop(['Unnamed: 0', 'DATE_AT'], axis=1)\n",
    "\n",
    "with Model() as model:\n",
    "    response_mean = []\n",
    "    x_ = pm.MutableData('features', df_train) # a data container, can be changed\n",
    "    t = np.transpose(x_.get_value())\n",
    "    \n",
    "    # intercept\n",
    "    y = Normal('y', mu=0, sigma=6000)\n",
    "    response_mean.append(y)\n",
    "    \n",
    "    # channels that can have DECAY and SATURATION effects\n",
    "    for channel_name in delay_channels:\n",
    "        i = df_train.columns.get_loc(channel_name)\n",
    "        xx = t[i].astype(float)\n",
    "        \n",
    "        print(f'Adding Delayed Channels: {channel_name}')\n",
    "        c = coef.loc[coef['features']==channel_name, 'coef'].values[0]\n",
    "        s = abs(c*0.015)\n",
    "        if c <= 0:\n",
    "            channel_b = HalfNormal(f'beta_{channel_name}', sigma=s)\n",
    "        else:\n",
    "            channel_b = Normal(f'beta_{channel_name}', mu=c, sigma=s)\n",
    "        \n",
    "        alpha = pm.Beta(f'alpha_{channel_name}', alpha=3, beta=3)\n",
    "        channel_mu = Gamma(f'mu_{channel_name}', alpha=3, beta=1)\n",
    "        response_mean.append(logistic_function(\n",
    "            geometric_adstock_tt(xx, alpha), channel_mu) * channel_b)\n",
    "    \n",
    "    # channels that have SATURATION effects only\n",
    "    for channel_name in non_lin_channels:\n",
    "        i = df_train.columns.get_loc(channel_name)\n",
    "        xx = t[i].astype(float)\n",
    "        \n",
    "        print(f'Adding Non-Linear Logistic Channel: {channel_name}')\n",
    "        c = coef.loc[coef['features']==channel_name, 'coef'].values[0]\n",
    "        s = abs(c*0.015)\n",
    "        if c <= 0:\n",
    "            channel_b = HalfNormal(f'beta_{channel_name}', sigma=s)\n",
    "        else:\n",
    "            channel_b = Normal(f'beta_{channel_name}', mu=c, sigma=s)\n",
    "        \n",
    "        # logistic reach curve\n",
    "        channel_mu = Gamma(f'mu_{channel_name}', alpha=3, beta=1)\n",
    "        response_mean.append(logistic_function(xx, channel_mu) * channel_b)\n",
    "        \n",
    "    # continuous external features\n",
    "    for channel_name in control_vars:\n",
    "        i = df_train.columns.get_loc(channel_name)\n",
    "        xx = t[i].astype(float)\n",
    "\n",
    "        print(f'Adding control: {channel_name}')\n",
    "        c = coef.loc[coef['features']==channel_name, 'coef'].values[0]\n",
    "        s = abs(c*0.015)\n",
    "        if c <= 0:\n",
    "            control_beta = HalfNormal(f'beta_{channel_name}', sigma=s)\n",
    "        else:\n",
    "            control_beta = Normal(f'beta_{channel_name}', mu=c, sigma=s)\n",
    "            \n",
    "        channel_contrib = control_beta * xx\n",
    "        response_mean.append(channel_contrib)\n",
    "        \n",
    "    # categorical control variables\n",
    "    for var_name in index_vars:\n",
    "        i = df_train.columns.get_loc(var_name)\n",
    "        shape = len(np.unique(t[i]))\n",
    "        x = t[i].astype('int')\n",
    "        \n",
    "        print(f'Adding Index Variable: {var_name}')\n",
    "        \n",
    "        ind_beta = Normal(f'beta_{var_name}', sigma=6000, shape=shape)\n",
    "        channel_contrib = ind_beta[x]\n",
    "        response_mean.append(channel_contrib)\n",
    "        \n",
    "    # noise\n",
    "    sigma = Exponential('sigma', 10)\n",
    "\n",
    "    \n",
    "    # define likelihood\n",
    "    likelihood = Normal(outcome, mu=sum(response_mean), sigma=sigma, observed=df[outcome].values)\n",
    "    \n",
    "    trace = pm.sample(3000,tune=500, init=\"auto\")"
   ]
  },
  {
   "cell_type": "code",
   "execution_count": null,
   "id": "898ce5df",
   "metadata": {},
   "outputs": [],
   "source": [
    "alphas = mus = [f'alpha_{n}' for n in delay_channels]\n",
    "mus = [f'mu_{n}' for n in delay_channels + non_lin_channels]\n",
    "#betas = [f'beta_{n}' for n in delay_channels + non_lin_channels + control_vars + index_vars]\n",
    "betas = [f'beta_{n}' for n in delay_channels + non_lin_channels + control_vars]"
   ]
  },
  {
   "cell_type": "code",
   "execution_count": null,
   "id": "127824cc",
   "metadata": {},
   "outputs": [],
   "source": [
    "slope = az.summary(trace, var_names=betas, kind=\"stats\")\n",
    "slope.sort_values('mean', ascending=False)"
   ]
  },
  {
   "cell_type": "code",
   "execution_count": null,
   "id": "5f3a7060",
   "metadata": {
    "scrolled": false
   },
   "outputs": [],
   "source": [
    "_ = az.plot_trace(trace, var_names=betas, legend=True)"
   ]
  },
  {
   "cell_type": "code",
   "execution_count": null,
   "id": "f240160d",
   "metadata": {},
   "outputs": [],
   "source": [
    "_ = az.plot_trace(trace, var_names=alphas)"
   ]
  },
  {
   "cell_type": "code",
   "execution_count": null,
   "id": "d00921a1",
   "metadata": {
    "scrolled": false
   },
   "outputs": [],
   "source": [
    "_ = az.plot_trace(trace, var_names=mus)"
   ]
  },
  {
   "cell_type": "code",
   "execution_count": null,
   "id": "2fe4914d",
   "metadata": {},
   "outputs": [],
   "source": [
    "with model:\n",
    "    y_pred = sample_posterior_predictive(trace)"
   ]
  },
  {
   "cell_type": "code",
   "execution_count": null,
   "id": "6f021555",
   "metadata": {},
   "outputs": [],
   "source": [
    "fig, ax = plt.subplots(figsize=(12, 8))\n",
    "y1 = df.reset_index()['SALES']\n",
    "y2 = y_pred['SALES'].mean(axis=0)\n",
    "y3 = np.median(y_pred['SALES'], axis=0)\n",
    "plt.plot(y1, label = 'Actual')\n",
    "plt.plot(y2, label = 'Predicted_mean')\n",
    "plt.plot(y3, label = 'Predicted_median')\n",
    "plt.legend()\n",
    "plt.show()"
   ]
  },
  {
   "cell_type": "code",
   "execution_count": null,
   "id": "1184c7af",
   "metadata": {},
   "outputs": [],
   "source": [
    "resid = y1 - y2\n",
    "resid.hist(bins=100)\n",
    "plt.show()"
   ]
  },
  {
   "cell_type": "code",
   "execution_count": null,
   "id": "8c379385",
   "metadata": {},
   "outputs": [],
   "source": [
    "#regression results\n",
    "def mean_absolute_percentage_error(y_true, y_pred): \n",
    "    return np.mean(np.abs((y_true - y_pred) / y_true)) * 100\n",
    "\n",
    "def regression_results(y_true, y_pred):\n",
    "    # Regression metrics\n",
    "    explained_variance=metrics.explained_variance_score(y_true, y_pred)\n",
    "    mean_absolute_error=metrics.mean_absolute_error(y_true, y_pred)\n",
    "    mape=np.mean(np.abs(y_true - y_pred) / np.abs(y_true)) * 100\n",
    "    median_absolute_error=metrics.median_absolute_error(y_true, y_pred)\n",
    "    r2=metrics.r2_score(y_true, y_pred)\n",
    "\n",
    "    print('explained_variance: ', round(explained_variance,4))    \n",
    "    print('r2: ', round(r2,4))\n",
    "    print('MAE: ', round(mean_absolute_error,4))\n",
    "    print('MAPE: ', round(mape,4), ' %')\n",
    "    \n",
    "regression_results(y1, y2)"
   ]
  },
  {
   "cell_type": "code",
   "execution_count": null,
   "id": "457fb91a",
   "metadata": {},
   "outputs": [],
   "source": [
    "#slope\n",
    "slope = slope.sort_values('mean', ascending=False)\n",
    "slope.to_csv('slope_v3_2yrs.csv')"
   ]
  },
  {
   "cell_type": "code",
   "execution_count": null,
   "id": "63e2889b",
   "metadata": {},
   "outputs": [],
   "source": [
    "#params\n",
    "coeffs = {}\n",
    "for item in (alphas + betas + mus):\n",
    "    coeffs[item] =  trace[item].mean()\n",
    "params = pd.DataFrame(coeffs.items())\n",
    "params.to_csv('params_v3_2yrs.csv')\n",
    "\n",
    "param_sum = az.summary(trace)\n",
    "param_sum.to_csv('param_sum_v3_2yrs.csv')"
   ]
  },
  {
   "cell_type": "markdown",
   "id": "eb0f1290",
   "metadata": {},
   "source": [
    "# ROAS Calc"
   ]
  },
  {
   "cell_type": "code",
   "execution_count": null,
   "id": "1f525237",
   "metadata": {},
   "outputs": [],
   "source": [
    "mod_channel = 'ADWORDS_LUMP'\n",
    "df_mod = df_train.copy(deep=True)\n",
    "df_mod.iloc[12:-12, df_mod.columns.get_loc(mod_channel)] = 0"
   ]
  },
  {
   "cell_type": "code",
   "execution_count": 125,
   "id": "662d6590",
   "metadata": {},
   "outputs": [],
   "source": [
    "#x_.set_value(df_mod)"
   ]
  },
  {
   "cell_type": "code",
   "execution_count": null,
   "id": "39cdfedf",
   "metadata": {},
   "outputs": [],
   "source": [
    "with model:\n",
    "    pm.set_data({'features':df_mod})\n",
    "    y_pred_mod = pm.sample_posterior_predictive(trace)"
   ]
  },
  {
   "cell_type": "code",
   "execution_count": null,
   "id": "a7b4673b",
   "metadata": {},
   "outputs": [],
   "source": [
    "df_og = df_train.copy(deep=True)\n",
    "with model:\n",
    "    pm.set_data({'features':df_og})\n",
    "    y_pred_og = sample_posterior_predictive(trace)"
   ]
  },
  {
   "cell_type": "code",
   "execution_count": null,
   "id": "0e0eb11f",
   "metadata": {},
   "outputs": [],
   "source": [
    "fig, ax = plt.subplots(figsize=(12, 8))\n",
    "y1_ = y_pred['SALES'].mean(axis=0)\n",
    "y2_ = y_pred_mod['SALES'].mean(axis=0)\n",
    "plt.plot(y1_, label = 'og')\n",
    "plt.plot(y2_, label = 'mod')\n",
    "plt.legend()\n",
    "plt.show()"
   ]
  },
  {
   "cell_type": "code",
   "execution_count": null,
   "id": "365311d3",
   "metadata": {},
   "outputs": [],
   "source": [
    "y1_.sum() - y2_.sum()"
   ]
  },
  {
   "cell_type": "code",
   "execution_count": null,
   "id": "77af972e",
   "metadata": {},
   "outputs": [],
   "source": [
    "y1_ - y2_"
   ]
  },
  {
   "cell_type": "code",
   "execution_count": null,
   "id": "a6b5192e",
   "metadata": {},
   "outputs": [],
   "source": [
    "y3_ = y_pred_og['SALES'].mean(axis=0)\n",
    "y1_.sum() - y3_.sum()"
   ]
  },
  {
   "cell_type": "code",
   "execution_count": null,
   "id": "cbcdf5a7",
   "metadata": {},
   "outputs": [],
   "source": [
    "y1_ - y3_"
   ]
  },
  {
   "cell_type": "code",
   "execution_count": 117,
   "id": "ff0bd1fe",
   "metadata": {},
   "outputs": [],
   "source": [
    "trace_p = pm.save_trace(trace, overwrite=True, directory='/home/ec2-user/SageMaker/trace')"
   ]
  },
  {
   "cell_type": "code",
   "execution_count": 83,
   "id": "289e8606",
   "metadata": {},
   "outputs": [],
   "source": [
    "with model:\n",
    "    trace2 = pm.load_trace(trace_p)"
   ]
  },
  {
   "cell_type": "code",
   "execution_count": null,
   "id": "6618d9dd",
   "metadata": {},
   "outputs": [],
   "source": []
  }
 ],
 "metadata": {
  "kernelspec": {
   "display_name": "conda_python3",
   "language": "python",
   "name": "conda_python3"
  },
  "language_info": {
   "codemirror_mode": {
    "name": "ipython",
    "version": 3
   },
   "file_extension": ".py",
   "mimetype": "text/x-python",
   "name": "python",
   "nbconvert_exporter": "python",
   "pygments_lexer": "ipython3",
   "version": "3.10.6"
  }
 },
 "nbformat": 4,
 "nbformat_minor": 5
}
